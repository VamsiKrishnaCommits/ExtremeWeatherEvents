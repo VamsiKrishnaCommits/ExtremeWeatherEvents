{
 "cells": [
  {
   "cell_type": "code",
   "execution_count": null,
   "metadata": {
    "id": "yKRHgpDZ3WXB"
   },
   "outputs": [],
   "source": [
    "import xarray as xr\n",
    "import random\n",
    "import os\n",
    "import numpy as np"
   ]
  },
  {
   "cell_type": "code",
   "execution_count": null,
   "metadata": {
    "id": "KaqbT6N0uxj2"
   },
   "outputs": [],
   "source": [
    "def create_data(file_list, var_name, geo_lims):\n",
    "\n",
    "  for name in file_list:\n",
    "    path1 = os.path.join(maindir, name)\n",
    "    DS = xr.open_dataset(path1)\n",
    "    DS = DS.sel(lat=slice(*geo_lims['lat']),lon=slice(*geo_lims['lon'])).load()\n",
    "\n",
    "    keys = list(DS.keys())\n",
    "    drop_keys = list(set(keys) - set(var_name)) + list(set(var_name) - set(keys))\n",
    "    new_DS = DS.drop(drop_keys)\n",
    "\n",
    "    path2 = os.path.join(newdir, name)\n",
    "    new_DS.to_netcdf(path = path2, mode = 'w', format = 'NETCDF4')"
   ]
  },
  {
   "cell_type": "code",
   "execution_count": null,
   "metadata": {
    "id": "tNDoMWQBAZ2e"
   },
   "outputs": [],
   "source": [
    "# maindir where origonal dataset is located\n",
    "maindir = 'drive/MyDrive/climate_data/2000-2009/Climate-Data'\n",
    "\n",
    "# newdir where you want to save new dataset\n",
    "newdir = 'drive/MyDrive/climate_data/2000-2009/Climate-Data-India'\n",
    "\n",
    "file_list = os.listdir(maindir)\n",
    "\n",
    "variables = ['PSL', 'T200', 'T500', 'U850', 'V850', 'Z1000', 'Z200']\n",
    "geo_lims = {'lat':[6,36],'lon':[68,98]}"
   ]
  },
  {
   "cell_type": "code",
   "execution_count": null,
   "metadata": {
    "id": "skLWUKPkOeQu"
   },
   "outputs": [],
   "source": [
    "# Important Note\n",
    "# If a file with same name and format is already present in folder then this function will rewrite the file to new file\n",
    "create_data(file_list, variables, geo_lims)"
   ]
  }
 ],
 "metadata": {
  "colab": {
   "collapsed_sections": [],
   "name": "Atharv.ipynb",
   "provenance": []
  },
  "kernelspec": {
   "display_name": "Python 3",
   "language": "python",
   "name": "python3"
  },
  "language_info": {
   "codemirror_mode": {
    "name": "ipython",
    "version": 3
   },
   "file_extension": ".py",
   "mimetype": "text/x-python",
   "name": "python",
   "nbconvert_exporter": "python",
   "pygments_lexer": "ipython3",
   "version": "3.8.10"
  }
 },
 "nbformat": 4,
 "nbformat_minor": 1
}
